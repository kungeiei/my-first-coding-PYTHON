{
  "nbformat": 4,
  "nbformat_minor": 0,
  "metadata": {
    "colab": {
      "name": "my-first-coding-PYTHON",
      "provenance": [],
      "collapsed_sections": [
        "MnsefPHAR2Xf",
        "DQUnqNvjXIGx",
        "ybAY7AHBR6RN",
        "5uRG4ZCmPcMa",
        "Fe1XngX6hews"
      ]
    },
    "kernelspec": {
      "name": "python3",
      "display_name": "Python 3"
    },
    "language_info": {
      "name": "python"
    }
  },
  "cells": [
    {
      "cell_type": "markdown",
      "metadata": {
        "id": "MnsefPHAR2Xf"
      },
      "source": [
        "# **Basic Python**"
      ]
    },
    {
      "cell_type": "code",
      "metadata": {
        "colab": {
          "base_uri": "https://localhost:8080/"
        },
        "id": "qo2828H4QAmr",
        "outputId": "586aa2fb-94cf-48db-aaae-effa2b9ac4a7"
      },
      "source": [
        "# create new variable \n",
        "name = \"Kung\"\n",
        "age = 24\n",
        "\n",
        "print(name)\n",
        "print(age)"
      ],
      "execution_count": null,
      "outputs": [
        {
          "output_type": "stream",
          "text": [
            "Kung\n",
            "24\n"
          ],
          "name": "stdout"
        }
      ]
    },
    {
      "cell_type": "code",
      "metadata": {
        "colab": {
          "base_uri": "https://localhost:8080/"
        },
        "id": "CVvtiWk1QAyR",
        "outputId": "f0482f78-8d41-4ae4-f170-39bcf7991389"
      },
      "source": [
        "# fstring template\n",
        "print( f\"Hello my name is {name} and I am {age} year olds.\" )"
      ],
      "execution_count": null,
      "outputs": [
        {
          "output_type": "stream",
          "text": [
            "Hello my name is Kung and I am 24 year olds.\n"
          ],
          "name": "stdout"
        }
      ]
    },
    {
      "cell_type": "code",
      "metadata": {
        "colab": {
          "base_uri": "https://localhost:8080/"
        },
        "id": "hRsGB7z4SxnI",
        "outputId": "7b658e3a-a89b-458e-8c5d-66bc5f3d1d96"
      },
      "source": [
        "# data structure in python\n",
        "shopping_list = [\"eggs\", \"milk\", \"bread\", \"carrot\"]\n",
        "print(shopping_list)"
      ],
      "execution_count": null,
      "outputs": [
        {
          "output_type": "stream",
          "text": [
            "['eggs', 'milk', 'bread', 'carrot']\n"
          ],
          "name": "stdout"
        }
      ]
    },
    {
      "cell_type": "code",
      "metadata": {
        "colab": {
          "base_uri": "https://localhost:8080/"
        },
        "id": "8OpFyc3NTJJP",
        "outputId": "7b65355f-6001-4a3b-bf4e-fa1ea777dead"
      },
      "source": [
        "print(shopping_list[0])\n",
        "print(shopping_list[1])\n",
        "print(shopping_list[2])\n",
        "print(shopping_list[3])"
      ],
      "execution_count": null,
      "outputs": [
        {
          "output_type": "stream",
          "text": [
            "eggs\n",
            "milk\n",
            "bread\n",
            "carrot\n"
          ],
          "name": "stdout"
        }
      ]
    },
    {
      "cell_type": "code",
      "metadata": {
        "colab": {
          "base_uri": "https://localhost:8080/"
        },
        "id": "d7FkLQDlTSZ_",
        "outputId": "7d38febe-7bfe-4dc4-87bf-e0223583a0a2"
      },
      "source": [
        "# control flow\n",
        "for item in shopping_list :\n",
        "    print(item.upper())"
      ],
      "execution_count": null,
      "outputs": [
        {
          "output_type": "stream",
          "text": [
            "EGGS\n",
            "MILK\n",
            "BREAD\n",
            "CARROT\n"
          ],
          "name": "stdout"
        }
      ]
    },
    {
      "cell_type": "code",
      "metadata": {
        "colab": {
          "base_uri": "https://localhost:8080/"
        },
        "id": "oYNNACp2ToKP",
        "outputId": "bd096e95-df10-4665-ac2c-3edac1ed9a69"
      },
      "source": [
        "# list comprehension\n",
        "upper_shopping_list = [item.upper() for item in shopping_list]\n",
        "print(upper_shopping_list)"
      ],
      "execution_count": null,
      "outputs": [
        {
          "output_type": "stream",
          "text": [
            "['EGGS', 'MILK', 'BREAD', 'CARROT']\n"
          ],
          "name": "stdout"
        }
      ]
    },
    {
      "cell_type": "code",
      "metadata": {
        "id": "bxR3a0eNUO66"
      },
      "source": [
        "# create new function\n",
        "def hello(name: str) -> None :\n",
        "    print(f\"Hello {name}!\")"
      ],
      "execution_count": null,
      "outputs": []
    },
    {
      "cell_type": "code",
      "metadata": {
        "colab": {
          "base_uri": "https://localhost:8080/"
        },
        "id": "w-WWXEuBUpi4",
        "outputId": "8e386f2b-b98b-4349-9f8c-7af41e6eb8d3"
      },
      "source": [
        "hello(name = \"Gooung\")"
      ],
      "execution_count": null,
      "outputs": [
        {
          "output_type": "stream",
          "text": [
            "Hello Gooung!\n"
          ],
          "name": "stdout"
        }
      ]
    },
    {
      "cell_type": "code",
      "metadata": {
        "id": "1kf9iu8JUrXh"
      },
      "source": [
        "# new function\n",
        "def add_two_nums(a: int, b: int) -> int :\n",
        "    return a + b"
      ],
      "execution_count": null,
      "outputs": []
    },
    {
      "cell_type": "code",
      "metadata": {
        "id": "euxwJAxoVnY8"
      },
      "source": [
        "result = add_two_nums(5, 10)\n",
        "print(result)"
      ],
      "execution_count": null,
      "outputs": []
    },
    {
      "cell_type": "markdown",
      "metadata": {
        "id": "DQUnqNvjXIGx"
      },
      "source": [
        "# **DOG OOP**"
      ]
    },
    {
      "cell_type": "code",
      "metadata": {
        "id": "B2OsMEeeVtzE"
      },
      "source": [
        "class Dog():\n",
        "    def __init__(self, name, age, breed):\n",
        "        self.name = name\n",
        "        self.age = age\n",
        "        self.breed = breed\n",
        "\n",
        "    def __str__(self):\n",
        "        return f\"I am a dog name {self.name}\"    \n",
        "\n",
        "    def barking(self):\n",
        "        print(\"Hong Hong!!\")\n",
        "\n",
        "    def eating(self, food):\n",
        "        print(f\"I am eating {food}. It's so delicious.\")"
      ],
      "execution_count": null,
      "outputs": []
    },
    {
      "cell_type": "code",
      "metadata": {
        "id": "xcpU-NvjXheJ"
      },
      "source": [
        "my_dog = Dog(\"Jonathan\", 3, \"Chivava\")"
      ],
      "execution_count": null,
      "outputs": []
    },
    {
      "cell_type": "code",
      "metadata": {
        "colab": {
          "base_uri": "https://localhost:8080/"
        },
        "id": "Df6tLo5TXmU5",
        "outputId": "c135ab79-4e8f-473a-ca37-c3504f9d3d16"
      },
      "source": [
        "print(my_dog.name)\n",
        "print(my_dog.age)\n",
        "print(my_dog.breed)"
      ],
      "execution_count": null,
      "outputs": [
        {
          "output_type": "stream",
          "text": [
            "Jonathan\n",
            "3\n",
            "Chivava\n"
          ],
          "name": "stdout"
        }
      ]
    },
    {
      "cell_type": "code",
      "metadata": {
        "colab": {
          "base_uri": "https://localhost:8080/"
        },
        "id": "sf2usnn8XrSb",
        "outputId": "afd2b82a-4f19-43f4-ae3e-a7b44c6ed6e4"
      },
      "source": [
        "my_dog.barking()\n",
        "my_dog.eating(\"Hotdog\")"
      ],
      "execution_count": null,
      "outputs": [
        {
          "output_type": "stream",
          "text": [
            "Hong Hong!!\n",
            "I am eating Hotdog. It's so delicious.\n"
          ],
          "name": "stdout"
        }
      ]
    },
    {
      "cell_type": "code",
      "metadata": {
        "colab": {
          "base_uri": "https://localhost:8080/"
        },
        "id": "nwNQZ_rJX2is",
        "outputId": "f6d38301-853e-4e25-ea94-ab8d524cc1e4"
      },
      "source": [
        "print(my_dog)"
      ],
      "execution_count": null,
      "outputs": [
        {
          "output_type": "stream",
          "text": [
            "I am a dog name Jonathan\n"
          ],
          "name": "stdout"
        }
      ]
    },
    {
      "cell_type": "markdown",
      "metadata": {
        "id": "ybAY7AHBR6RN"
      },
      "source": [
        "# **BOOK OOP**"
      ]
    },
    {
      "cell_type": "code",
      "metadata": {
        "id": "90uQnQ2rZoJU"
      },
      "source": [
        "# Book Class\n",
        "class Book():\n",
        "    def __init__(self, title, year, genre, length):\n",
        "        self.title = title\n",
        "        self.year = year\n",
        "        self.genre = genre\n",
        "        self.length = length\n",
        "\n",
        "    def add_author(self, author):\n",
        "        self.author = author\n",
        "\n",
        "    def __str__(self):\n",
        "        return f\"Book title: {self.title} Author: {self.author}\""
      ],
      "execution_count": null,
      "outputs": []
    },
    {
      "cell_type": "code",
      "metadata": {
        "id": "DW2yT3AfaJqk"
      },
      "source": [
        "my_book = Book(\"Business Made Simple\", 2021, \"Business\", 203)"
      ],
      "execution_count": null,
      "outputs": []
    },
    {
      "cell_type": "code",
      "metadata": {
        "colab": {
          "base_uri": "https://localhost:8080/"
        },
        "id": "sLOW1I4halmS",
        "outputId": "410b4044-dbf4-4a35-e587-4415890ff5d2"
      },
      "source": [
        "print(my_book.title)\n",
        "print(my_book.year)\n",
        "print(my_book.genre)\n",
        "print(my_book.length)"
      ],
      "execution_count": null,
      "outputs": [
        {
          "output_type": "stream",
          "text": [
            "Business Made Simple\n",
            "2021\n",
            "Business\n",
            "203\n"
          ],
          "name": "stdout"
        }
      ]
    },
    {
      "cell_type": "code",
      "metadata": {
        "colab": {
          "base_uri": "https://localhost:8080/"
        },
        "id": "_ElxekMXavUb",
        "outputId": "3ad49b28-4bd4-4bde-a63d-d8830591ccc1"
      },
      "source": [
        "my_book.add_author(\"Donald Miller\")\n",
        "print(my_book)"
      ],
      "execution_count": null,
      "outputs": [
        {
          "output_type": "stream",
          "text": [
            "Book title: Business Made Simple Author: Donald Miller\n"
          ],
          "name": "stdout"
        }
      ]
    },
    {
      "cell_type": "markdown",
      "metadata": {
        "id": "5uRG4ZCmPcMa"
      },
      "source": [
        "# **ATM OOP**"
      ]
    },
    {
      "cell_type": "code",
      "metadata": {
        "id": "yYJXM2j0Pg-u"
      },
      "source": [
        "import random\n",
        "\n",
        "class ATM():\n",
        "    def __init__(self, account_name, initial):\n",
        "        self.account_name = account_name\n",
        "        self.balance = initial \n",
        "    \n",
        "    def __str__(self):\n",
        "        return f\"Your accout name: {self.account_name}\"\n",
        "\n",
        "    def check_balance(self):\n",
        "        print( f\"Your balance: {self.balance} THB\")\n",
        "\n",
        "    def deposit(self, money):\n",
        "        self.balance += money\n",
        "\n",
        "    def withdraw(self, money):\n",
        "        if money > self.balance:\n",
        "            print(f\"Your balance: {self.balance} is not enough.\")\n",
        "        else:\n",
        "            print(\"Success Transaction.\")\n",
        "            self.balance -= money\n",
        "    \n",
        "    def online_withdraw(self, money):\n",
        "        if money > self.balance:\n",
        "            print(\"Error: Your balance is not enough.\")\n",
        "        else: \n",
        "            OTP = random.randint(10000, 99999)\n",
        "            print(OTP)\n",
        "            user_input = int(input(\"Please type your OTP: \"))\n",
        "            if (OTP == user_input):\n",
        "                print(\"Success: Please receive your money.\")\n",
        "                self.balance -= money\n",
        "            else:\n",
        "                print(\"Your OTP is incorrect. Please try again.\")"
      ],
      "execution_count": null,
      "outputs": []
    },
    {
      "cell_type": "code",
      "metadata": {
        "colab": {
          "base_uri": "https://localhost:8080/"
        },
        "id": "ESzK03J3Pg1S",
        "outputId": "5d4c2d18-a7ca-4ebc-fba4-56550a81722b"
      },
      "source": [
        "my_atm = ATM('Noppanut Kung', 1000000)\n",
        "my_atm.check_balance()"
      ],
      "execution_count": null,
      "outputs": [
        {
          "output_type": "stream",
          "text": [
            "Your balance: 1000000 THB\n"
          ],
          "name": "stdout"
        }
      ]
    },
    {
      "cell_type": "code",
      "metadata": {
        "colab": {
          "base_uri": "https://localhost:8080/"
        },
        "id": "NLfJxRJkPgxT",
        "outputId": "5c0717a1-94f6-4de1-9bf7-db70e4d2390f"
      },
      "source": [
        "my_atm.deposit(1000000)\n",
        "my_atm.withdraw(500000)\n",
        "my_atm.check_balance()"
      ],
      "execution_count": null,
      "outputs": [
        {
          "output_type": "stream",
          "text": [
            "Success Transaction.\n",
            "Your balance: 1500000 THB\n"
          ],
          "name": "stdout"
        }
      ]
    },
    {
      "cell_type": "code",
      "metadata": {
        "colab": {
          "base_uri": "https://localhost:8080/"
        },
        "id": "8-IOEYMNPgnD",
        "outputId": "66685cba-1837-43e6-f95c-04a69c243724"
      },
      "source": [
        "my_atm.online_withdraw(900000)"
      ],
      "execution_count": null,
      "outputs": [
        {
          "output_type": "stream",
          "text": [
            "67314\n",
            "Please type your OTP: 67314\n",
            "Success: Please receive your money.\n"
          ],
          "name": "stdout"
        }
      ]
    },
    {
      "cell_type": "code",
      "metadata": {
        "colab": {
          "base_uri": "https://localhost:8080/"
        },
        "id": "O75lxFrKP3qL",
        "outputId": "b0e46aad-4be0-48fc-a959-c006fa792e28"
      },
      "source": [
        "my_atm.check_balance()"
      ],
      "execution_count": null,
      "outputs": [
        {
          "output_type": "stream",
          "text": [
            "Your balance: 600000 THB\n"
          ],
          "name": "stdout"
        }
      ]
    },
    {
      "cell_type": "markdown",
      "metadata": {
        "id": "Fe1XngX6hews"
      },
      "source": [
        "# **Machine Learning**"
      ]
    },
    {
      "cell_type": "code",
      "metadata": {
        "id": "0UO_FCA_hwSM"
      },
      "source": [
        "import pandas as pd\n",
        "import numpy as np\n",
        "import matplotlib.pyplot as plt\n",
        "import seaborn as sns\n",
        "from sklearn.linear_model import LinearRegression\n",
        "from sklearn.tree import DecisionTreeRegressor\n",
        "from sklearn.ensemble import RandomForestRegressor\n",
        "from sklearn.metrics import mean_squared_error, mean_absolute_error\n",
        "from sklearn.model_selection import train_test_split"
      ],
      "execution_count": 32,
      "outputs": []
    },
    {
      "cell_type": "code",
      "metadata": {
        "colab": {
          "base_uri": "https://localhost:8080/"
        },
        "id": "Z6g94cUKiHEw",
        "outputId": "1bc7a296-8a76-46aa-9080-43da8c9ab953"
      },
      "source": [
        "home_data = pd.read_csv(\"home_data_train.csv\")\n",
        "print(home_data.head())\n",
        "list_i_want = ['LotArea', 'YearBuilt', '1stFlrSF', '2ndFlrSF', \n",
        "               'FullBath', 'BedroomAbvGr' ,'TotRmsAbvGrd']"
      ],
      "execution_count": 33,
      "outputs": [
        {
          "output_type": "stream",
          "text": [
            "   Id  MSSubClass MSZoning  ...  SaleType  SaleCondition SalePrice\n",
            "0   1          60       RL  ...        WD         Normal    208500\n",
            "1   2          20       RL  ...        WD         Normal    181500\n",
            "2   3          60       RL  ...        WD         Normal    223500\n",
            "3   4          70       RL  ...        WD        Abnorml    140000\n",
            "4   5          60       RL  ...        WD         Normal    250000\n",
            "\n",
            "[5 rows x 81 columns]\n"
          ],
          "name": "stdout"
        }
      ]
    },
    {
      "cell_type": "code",
      "metadata": {
        "id": "D2rlSVJViHL3"
      },
      "source": [
        "x_data = home_data[list_i_want]\n",
        "y_data = home_data[\"SalePrice\"]"
      ],
      "execution_count": 35,
      "outputs": []
    },
    {
      "cell_type": "code",
      "metadata": {
        "id": "-TTNLrKSiHR2"
      },
      "source": [
        "x_train, x_test, y_train, y_test = train_test_split(x_data,\n",
        "                                                    y_data, \n",
        "                                                    test_size = 0.3,\n",
        "                                                    random_state = 42)"
      ],
      "execution_count": 36,
      "outputs": []
    },
    {
      "cell_type": "code",
      "metadata": {
        "colab": {
          "base_uri": "https://localhost:8080/"
        },
        "id": "fX2lwFcRiHUE",
        "outputId": "d0438846-35cf-4d13-ebe5-703091cffc22"
      },
      "source": [
        "print(\"Train Data Shape :\" , x_train.shape)\n",
        "print(\"Test Data Shape :\" , x_test.shape)"
      ],
      "execution_count": 37,
      "outputs": [
        {
          "output_type": "stream",
          "text": [
            "Train Data Shape : (1022, 7)\n",
            "Test Data Shape : (438, 7)\n"
          ],
          "name": "stdout"
        }
      ]
    },
    {
      "cell_type": "code",
      "metadata": {
        "colab": {
          "base_uri": "https://localhost:8080/"
        },
        "id": "F7ZkUK3ykrUZ",
        "outputId": "d558087e-22df-49bb-c31d-3974b28f3748"
      },
      "source": [
        "linear_model = LinearRegression()\n",
        "tree_model = DecisionTreeRegressor()\n",
        "forest_model = RandomForestRegressor()\n",
        "\n",
        "# train data\n",
        "linear_model.fit(x_train, y_train)\n",
        "tree_model.fit(x_train, y_train)\n",
        "forest_model.fit(x_train, y_train)\n",
        "\n",
        "# predict data\n",
        "prediction_linear = linear_model.predict(x_test)\n",
        "prediction_Tree = tree_model.predict(x_test)\n",
        "prediction_forest = forest_model.predict(x_test)\n",
        "\n",
        "# evaluate model\n",
        "print(\"Linear model RMSE :\", mean_squared_error(y_test, prediction_linear, squared = False))\n",
        "print(\"Tree model RMSE :\", mean_squared_error(y_test, prediction_Tree, squared = False))\n",
        "print(\"Random Forest model RMSE :\", mean_squared_error(y_test, prediction_forest, squared = False))"
      ],
      "execution_count": 38,
      "outputs": [
        {
          "output_type": "stream",
          "text": [
            "Linear model RMSE : 42442.14146573824\n",
            "Tree model RMSE : 44515.53949602055\n",
            "Random Forest model RMSE : 31683.998141491556\n"
          ],
          "name": "stdout"
        }
      ]
    },
    {
      "cell_type": "code",
      "metadata": {
        "colab": {
          "base_uri": "https://localhost:8080/",
          "height": 352
        },
        "id": "VlFYV9nRkrWp",
        "outputId": "994d1691-f9b8-40c8-c9b1-f5ce43d4d68e"
      },
      "source": [
        "sns.scatterplot(prediction_forest, y_test)\n",
        "plt.plot(y_test, y_test, color='red', linestyle=':', linewidth = 1)\n",
        "plt.title(\"Random Forest Model\")\n",
        "plt.show()\n",
        "plt.clf()"
      ],
      "execution_count": 39,
      "outputs": [
        {
          "output_type": "stream",
          "text": [
            "/usr/local/lib/python3.7/dist-packages/seaborn/_decorators.py:43: FutureWarning: Pass the following variables as keyword args: x, y. From version 0.12, the only valid positional argument will be `data`, and passing other arguments without an explicit keyword will result in an error or misinterpretation.\n",
            "  FutureWarning\n"
          ],
          "name": "stderr"
        },
        {
          "output_type": "display_data",
          "data": {
            "image/png": "[encoded data removed]",
            "text/plain": [
              "<Figure size 432x288 with 1 Axes>"
            ]
          },
          "metadata": {
            "tags": [],
            "needs_background": "light"
          }
        },
        {
          "output_type": "display_data",
          "data": {
            "text/plain": [
              "<Figure size 432x288 with 0 Axes>"
            ]
          },
          "metadata": {
            "tags": []
          }
        }
      ]
    },
    {
      "cell_type": "code",
      "metadata": {
        "colab": {
          "base_uri": "https://localhost:8080/",
          "height": 352
        },
        "id": "PnfP4_YnoXyB",
        "outputId": "d7d2ad5a-c3bf-4eaa-be1e-0014e361f677"
      },
      "source": [
        "sns.scatterplot(prediction_linear, y_test)\n",
        "plt.plot(y_test, y_test, color='red', linestyle=':', linewidth = 1)\n",
        "plt.title(\"Linear Model\")\n",
        "plt.show()\n",
        "plt.clf()"
      ],
      "execution_count": 40,
      "outputs": [
        {
          "output_type": "stream",
          "text": [
            "/usr/local/lib/python3.7/dist-packages/seaborn/_decorators.py:43: FutureWarning: Pass the following variables as keyword args: x, y. From version 0.12, the only valid positional argument will be `data`, and passing other arguments without an explicit keyword will result in an error or misinterpretation.\n",
            "  FutureWarning\n"
          ],
          "name": "stderr"
        },
        {
          "output_type": "display_data",
          "data": {
            "image/png": "[encoded data removed]",
            "text/plain": [
              "<Figure size 432x288 with 1 Axes>"
            ]
          },
          "metadata": {
            "tags": [],
            "needs_background": "light"
          }
        },
        {
          "output_type": "display_data",
          "data": {
            "text/plain": [
              "<Figure size 432x288 with 0 Axes>"
            ]
          },
          "metadata": {
            "tags": []
          }
        }
      ]
    },
    {
      "cell_type": "code",
      "metadata": {
        "colab": {
          "base_uri": "https://localhost:8080/",
          "height": 352
        },
        "id": "md19yfK-obSW",
        "outputId": "1b88a1b4-3db5-40ce-8493-9f8e04756195"
      },
      "source": [
        "sns.scatterplot(prediction_Tree, y_test)\n",
        "plt.plot(y_test, y_test, color='red', linestyle=':', linewidth = 1)\n",
        "plt.title(\"Decision Tree Model\")\n",
        "plt.show()\n",
        "plt.clf()"
      ],
      "execution_count": 41,
      "outputs": [
        {
          "output_type": "stream",
          "text": [
            "/usr/local/lib/python3.7/dist-packages/seaborn/_decorators.py:43: FutureWarning: Pass the following variables as keyword args: x, y. From version 0.12, the only valid positional argument will be `data`, and passing other arguments without an explicit keyword will result in an error or misinterpretation.\n",
            "  FutureWarning\n"
          ],
          "name": "stderr"
        },
        {
          "output_type": "display_data",
          "data": {
            "image/png": "[encoded data removed]",
            "text/plain": [
              "<Figure size 432x288 with 1 Axes>"
            ]
          },
          "metadata": {
            "tags": [],
            "needs_background": "light"
          }
        },
        {
          "output_type": "display_data",
          "data": {
            "text/plain": [
              "<Figure size 432x288 with 0 Axes>"
            ]
          },
          "metadata": {
            "tags": []
          }
        }
      ]
    }
  ]
}